{
 "cells": [
  {
   "cell_type": "code",
   "execution_count": 1,
   "id": "2b6595c5",
   "metadata": {
    "ExecuteTime": {
     "end_time": "2025-05-12T15:31:45.023023Z",
     "start_time": "2025-05-12T15:31:44.403916Z"
    }
   },
   "outputs": [],
   "source": [
    "import sys\n",
    "import os\n",
    "\n",
    "# Get path to the parent directory (i.e., project/)\n",
    "project_root = os.path.abspath(os.path.join(os.getcwd(), '..'))\n",
    "sys.path.append(project_root)\n",
    "\n",
    "import mtt\n",
    "\n",
    "# Enter your player/pair number (0-9)\n",
    "\n",
    "player_number = 0\n",
    "\n",
    "# Press shift enter to load the quiz\n",
    "\n",
    "generator = mtt.QuizGenerator(player_number,'describer')"
   ]
  },
  {
   "cell_type": "code",
   "execution_count": 2,
   "id": "99b9ef74",
   "metadata": {
    "ExecuteTime": {
     "end_time": "2025-05-12T15:31:45.698175Z",
     "start_time": "2025-05-12T15:31:45.621099Z"
    }
   },
   "outputs": [
    {
     "name": "stdout",
     "output_type": "stream",
     "text": [
      "Question 0 (Describer) - Image:\n",
      "\n"
     ]
    },
    {
     "data": {
      "image/png": "[encoded data removed]",
      "text/plain": [
       "<Figure size 500x500 with 1 Axes>"
      ]
     },
     "metadata": {},
     "output_type": "display_data"
    }
   ],
   "source": [
    "# Press shift enter to start the pracice session\n",
    "# Please only press shift enter when you're ready to go to the next question \n",
    "#### YOU CANNOT GO BACK ####\n",
    "\n",
    "generator.get_next_practice()\n"
   ]
  },
  {
   "cell_type": "code",
   "execution_count": 3,
   "id": "dca12a2f",
   "metadata": {
    "ExecuteTime": {
     "end_time": "2025-05-12T15:31:46.451929Z",
     "start_time": "2025-05-12T15:31:46.405722Z"
    }
   },
   "outputs": [
    {
     "name": "stdout",
     "output_type": "stream",
     "text": [
      "Question 0 (Describer) - Image:\n",
      "\n"
     ]
    },
    {
     "data": {
      "image/png": "[encoded data removed]",
      "text/plain": [
       "<Figure size 500x500 with 1 Axes>"
      ]
     },
     "metadata": {},
     "output_type": "display_data"
    }
   ],
   "source": [
    "# Press shift enter to start the test session\n",
    "# Please only press shift enter when you're ready to go to the next question \n",
    "#### YOU CANNOT GO BACK ####\n",
    "\n",
    "generator.get_next_test()\n"
   ]
  },
  {
   "cell_type": "code",
   "execution_count": null,
   "id": "4cee9ec3",
   "metadata": {},
   "outputs": [],
   "source": []
  },
  {
   "cell_type": "code",
   "execution_count": null,
   "id": "520f53df",
   "metadata": {},
   "outputs": [],
   "source": []
  }
 ],
 "metadata": {
  "kernelspec": {
   "display_name": "Python 3 (ipykernel)",
   "language": "python",
   "name": "python3"
  },
  "language_info": {
   "codemirror_mode": {
    "name": "ipython",
    "version": 3
   },
   "file_extension": ".py",
   "mimetype": "text/x-python",
   "name": "python",
   "nbconvert_exporter": "python",
   "pygments_lexer": "ipython3",
   "version": "3.12.6"
  }
 },
 "nbformat": 4,
 "nbformat_minor": 5
}
