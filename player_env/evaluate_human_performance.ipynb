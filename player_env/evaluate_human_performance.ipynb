{
 "cells": [
  {
   "cell_type": "code",
   "id": "c63286e7",
   "metadata": {
    "ExecuteTime": {
     "end_time": "2025-05-15T00:59:39.685255Z",
     "start_time": "2025-05-15T00:59:38.714513Z"
    }
   },
   "source": [
    "import matplotlib.pyplot as plt\n",
    "import numpy as np\n",
    "import pandas as pd\n",
    "\n",
    "import sys\n",
    "import os\n",
    "\n",
    "# Get path to the parent directory (i.e., project/)\n",
    "project_root = os.path.abspath(os.path.join(os.getcwd(), '..'))\n",
    "sys.path.append(project_root)\n",
    "\n",
    "import mtt.environment as env\n",
    "\n",
    "player_results = pd.read_csv('./human_performance.csv',index_col=0)\n",
    "\n",
    "prac_logger = env.EvalLogger('precond', 'practice',mode='human') # input precond -> practice, or practice -> test\n",
    "test_logger = env.EvalLogger('practice', 'test',mode='human') # input precond -> practice, or practice -> test\n",
    "\n",
    "for player_number in range(10):\n",
    "    \n",
    "    if str(player_number) in player_results:\n",
    "        \n",
    "        d_generator = env.QuizGenerator(player_number,'describer')\n",
    "        v_generator = env.QuizGenerator(player_number,'visualizer')\n",
    "\n",
    "        for q in range(10):\n",
    "\n",
    "            imgs, program = d_generator.get_next_practice(return_figure=True,return_program=True)\n",
    "            imgs, options = v_generator.get_next_practice(return_figure=True,return_program=True)\n",
    "\n",
    "            res = player_results[str(player_number)].iloc[q]\n",
    "            prac_logger.test_qna(np.asarray([1]), np.asarray([res]), [program], [options])\n",
    "\n",
    "\n",
    "        for q in range(10):\n",
    "            \n",
    "            imgs, program = d_generator.get_next_test(return_figure=True,return_program=True)\n",
    "            imgs, options = v_generator.get_next_test(return_figure=True,return_program=True)\n",
    "\n",
    "            res = player_results[str(player_number)].iloc[10+q]\n",
    "            test_logger.test_qna(np.asarray([1]), np.asarray([res]), [program], [options])\n",
    "\n",
    "print('Finished')"
   ],
   "outputs": [
    {
     "ename": "ModuleNotFoundError",
     "evalue": "No module named 'pandas'",
     "output_type": "error",
     "traceback": [
      "\u001B[31m---------------------------------------------------------------------------\u001B[39m",
      "\u001B[31mModuleNotFoundError\u001B[39m                       Traceback (most recent call last)",
      "\u001B[36mCell\u001B[39m\u001B[36m \u001B[39m\u001B[32mIn[1]\u001B[39m\u001B[32m, line 3\u001B[39m\n\u001B[32m      1\u001B[39m \u001B[38;5;28;01mimport\u001B[39;00m\u001B[38;5;250m \u001B[39m\u001B[34;01mmatplotlib\u001B[39;00m\u001B[34;01m.\u001B[39;00m\u001B[34;01mpyplot\u001B[39;00m\u001B[38;5;250m \u001B[39m\u001B[38;5;28;01mas\u001B[39;00m\u001B[38;5;250m \u001B[39m\u001B[34;01mplt\u001B[39;00m\n\u001B[32m      2\u001B[39m \u001B[38;5;28;01mimport\u001B[39;00m\u001B[38;5;250m \u001B[39m\u001B[34;01mnumpy\u001B[39;00m\u001B[38;5;250m \u001B[39m\u001B[38;5;28;01mas\u001B[39;00m\u001B[38;5;250m \u001B[39m\u001B[34;01mnp\u001B[39;00m\n\u001B[32m----> \u001B[39m\u001B[32m3\u001B[39m \u001B[38;5;28;01mimport\u001B[39;00m\u001B[38;5;250m \u001B[39m\u001B[34;01mpandas\u001B[39;00m\u001B[38;5;250m \u001B[39m\u001B[38;5;28;01mas\u001B[39;00m\u001B[38;5;250m \u001B[39m\u001B[34;01mpd\u001B[39;00m\n\u001B[32m      5\u001B[39m \u001B[38;5;28;01mimport\u001B[39;00m\u001B[38;5;250m \u001B[39m\u001B[34;01msys\u001B[39;00m\n\u001B[32m      6\u001B[39m \u001B[38;5;28;01mimport\u001B[39;00m\u001B[38;5;250m \u001B[39m\u001B[34;01mos\u001B[39;00m\n",
      "\u001B[31mModuleNotFoundError\u001B[39m: No module named 'pandas'"
     ]
    }
   ],
   "execution_count": 1
  },
  {
   "cell_type": "code",
   "execution_count": 9,
   "id": "1449e08a",
   "metadata": {
    "scrolled": true
   },
   "outputs": [
    {
     "data": {
      "text/plain": [
       "{'question_n': 80,\n",
       " 'correct_n': 73,\n",
       " 'accuracy': 0.9125,\n",
       " 'logging_dict': {'ood_symbol_question': 35,\n",
       "  'ood_number_question': 23,\n",
       "  'ood_both_question': 11,\n",
       "  'ood_symbol_answer': 34,\n",
       "  'ood_number_answer': 23,\n",
       "  'ood_both_answer': 11},\n",
       " 'correct_dict': {'ood_symbol_question': 30,\n",
       "  'ood_number_question': 21,\n",
       "  'ood_both_question': 10,\n",
       "  'ood_symbol_answer': 29,\n",
       "  'ood_number_answer': 21,\n",
       "  'ood_both_answer': 10},\n",
       " 'accuracy_dict': {'ood_symbol_question': 0.8571428571428571,\n",
       "  'ood_number_question': 0.9130434782608695,\n",
       "  'ood_both_question': 0.9090909090909091,\n",
       "  'ood_symbol_answer': 0.8529411764705882,\n",
       "  'ood_number_answer': 0.9130434782608695,\n",
       "  'ood_both_answer': 0.9090909090909091}}"
      ]
     },
     "execution_count": 9,
     "metadata": {},
     "output_type": "execute_result"
    }
   ],
   "source": [
    "prac_logger.return_results()"
   ]
  },
  {
   "cell_type": "code",
   "execution_count": 10,
   "id": "ec30a280",
   "metadata": {},
   "outputs": [
    {
     "data": {
      "text/plain": [
       "{'question_n': 80,\n",
       " 'correct_n': 69,\n",
       " 'accuracy': 0.8625,\n",
       " 'logging_dict': {'ood_symbol_question': 38,\n",
       "  'ood_number_question': 22,\n",
       "  'ood_both_question': 12,\n",
       "  'ood_symbol_answer': 36,\n",
       "  'ood_number_answer': 22,\n",
       "  'ood_both_answer': 12},\n",
       " 'correct_dict': {'ood_symbol_question': 32,\n",
       "  'ood_number_question': 15,\n",
       "  'ood_both_question': 8,\n",
       "  'ood_symbol_answer': 30,\n",
       "  'ood_number_answer': 15,\n",
       "  'ood_both_answer': 8},\n",
       " 'accuracy_dict': {'ood_symbol_question': 0.8421052631578947,\n",
       "  'ood_number_question': 0.6818181818181818,\n",
       "  'ood_both_question': 0.6666666666666666,\n",
       "  'ood_symbol_answer': 0.8333333333333334,\n",
       "  'ood_number_answer': 0.6818181818181818,\n",
       "  'ood_both_answer': 0.6666666666666666}}"
      ]
     },
     "execution_count": 10,
     "metadata": {},
     "output_type": "execute_result"
    }
   ],
   "source": [
    "test_logger.return_results()"
   ]
  },
  {
   "cell_type": "code",
   "execution_count": null,
   "id": "4c1fee45",
   "metadata": {},
   "outputs": [],
   "source": []
  }
 ],
 "metadata": {
  "kernelspec": {
   "display_name": "Python 3 (ipykernel)",
   "language": "python",
   "name": "python3"
  },
  "language_info": {
   "codemirror_mode": {
    "name": "ipython",
    "version": 3
   },
   "file_extension": ".py",
   "mimetype": "text/x-python",
   "name": "python",
   "nbconvert_exporter": "python",
   "pygments_lexer": "ipython3",
   "version": "3.12.6"
  }
 },
 "nbformat": 4,
 "nbformat_minor": 5
}
