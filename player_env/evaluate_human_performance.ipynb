{
 "cells": [
  {
   "cell_type": "code",
   "id": "c63286e7",
   "metadata": {
    "ExecuteTime": {
     "end_time": "2025-05-16T01:52:23.122836Z",
     "start_time": "2025-05-16T01:52:22.091642Z"
    }
   },
   "source": [
    "import matplotlib.pyplot as plt\n",
    "import numpy as np\n",
    "import pandas as pd\n",
    "\n",
    "import sys\n",
    "import os\n",
    "\n",
    "# Get path to the parent directory (i.e., project/)\n",
    "project_root = os.path.abspath(os.path.join(os.getcwd(), '..'))\n",
    "sys.path.append(project_root)\n",
    "\n",
    "import mtt.environment as env\n",
    "\n",
    "player_results = pd.read_csv('human_results.csv', index_col=0)\n",
    "\n",
    "prac_logger = env.EvalLogger('precond', 'practice',mode='human') # input precond -> practice, or practice -> test\n",
    "test_logger = env.EvalLogger('practice', 'test',mode='human') # input precond -> practice, or practice -> test\n",
    "\n",
    "for player_number in range(10):\n",
    "    \n",
    "    if str(player_number) in player_results:\n",
    "        \n",
    "        d_generator = env.QuizGenerator(player_number,'describer')\n",
    "        v_generator = env.QuizGenerator(player_number,'visualizer')\n",
    "\n",
    "        for q in range(10):\n",
    "\n",
    "            imgs, program = d_generator.get_next_practice(return_figure=True,return_program=True)\n",
    "            imgs, options = v_generator.get_next_practice(return_figure=True,return_program=True)\n",
    "\n",
    "            res = player_results[str(player_number)].iloc[q]\n",
    "            prac_logger.test_qna(np.asarray([1]), np.asarray([res]), [program], [options])\n",
    "\n",
    "\n",
    "        for q in range(10):\n",
    "            \n",
    "            imgs, program = d_generator.get_next_test(return_figure=True,return_program=True)\n",
    "            imgs, options = v_generator.get_next_test(return_figure=True,return_program=True)\n",
    "\n",
    "            res = player_results[str(player_number)].iloc[10+q]\n",
    "            test_logger.test_qna(np.asarray([1]), np.asarray([res]), [program], [options])\n",
    "\n",
    "print('Finished')"
   ],
   "outputs": [
    {
     "name": "stdout",
     "output_type": "stream",
     "text": [
      "Finished\n"
     ]
    }
   ],
   "execution_count": 2
  },
  {
   "cell_type": "code",
   "id": "1449e08a",
   "metadata": {
    "scrolled": true,
    "ExecuteTime": {
     "end_time": "2025-05-16T01:52:43.254662Z",
     "start_time": "2025-05-16T01:52:43.248999Z"
    }
   },
   "source": [
    "import pickle\n",
    "\n",
    "# Path to save the pickle file\n",
    "\n",
    "# Save the dictionary\n",
    "with open('./human_results_practice.pkl', 'wb') as f:\n",
    "    pickle.dump(prac_logger.return_results(), f)\n",
    "\n",
    "print(f\"Dictionary saved to human_results_pratice\")\n",
    "\n",
    "prac_logger.return_results()"
   ],
   "outputs": [
    {
     "name": "stdout",
     "output_type": "stream",
     "text": [
      "Dictionary saved to human_results_pratice\n"
     ]
    },
    {
     "data": {
      "text/plain": [
       "{'question_n': 100,\n",
       " 'correct_n': np.int64(91),\n",
       " 'accuracy': np.float64(0.91),\n",
       " 'logging_dict': {'ood_symbol_question': 47,\n",
       "  'ood_number_question': 31,\n",
       "  'ood_both_question': 15,\n",
       "  'ood_symbol_answer': 44,\n",
       "  'ood_number_answer': 31,\n",
       "  'ood_both_answer': 15},\n",
       " 'correct_dict': {'ood_symbol_question': np.int64(41),\n",
       "  'ood_number_question': np.int64(28),\n",
       "  'ood_both_question': np.int64(14),\n",
       "  'ood_symbol_answer': np.int64(38),\n",
       "  'ood_number_answer': np.int64(28),\n",
       "  'ood_both_answer': np.int64(14)},\n",
       " 'accuracy_dict': {'ood_symbol_question': np.float64(0.8723404255319149),\n",
       "  'ood_number_question': np.float64(0.9032258064516129),\n",
       "  'ood_both_question': np.float64(0.9333333333333333),\n",
       "  'ood_symbol_answer': np.float64(0.8636363636363636),\n",
       "  'ood_number_answer': np.float64(0.9032258064516129),\n",
       "  'ood_both_answer': np.float64(0.9333333333333333)}}"
      ]
     },
     "execution_count": 5,
     "metadata": {},
     "output_type": "execute_result"
    }
   ],
   "execution_count": 5
  },
  {
   "cell_type": "code",
   "id": "ec30a280",
   "metadata": {
    "ExecuteTime": {
     "end_time": "2025-05-16T01:53:22.005481Z",
     "start_time": "2025-05-16T01:53:21.998402Z"
    }
   },
   "source": [
    "import pickle\n",
    "\n",
    "# Path to save the pickle file\n",
    "\n",
    "# Save the dictionary\n",
    "with open('./human_results_test.pkl', 'wb') as f:\n",
    "    pickle.dump(test_logger.return_results(), f)\n",
    "\n",
    "print(f\"Dictionary saved to human_results_test\")\n",
    "test_logger.return_results()"
   ],
   "outputs": [
    {
     "name": "stdout",
     "output_type": "stream",
     "text": [
      "Dictionary saved to human_results_test\n"
     ]
    },
    {
     "data": {
      "text/plain": [
       "{'question_n': 100,\n",
       " 'correct_n': np.int64(87),\n",
       " 'accuracy': np.float64(0.87),\n",
       " 'logging_dict': {'ood_symbol_question': 45,\n",
       "  'ood_number_question': 26,\n",
       "  'ood_both_question': 13,\n",
       "  'ood_symbol_answer': 43,\n",
       "  'ood_number_answer': 26,\n",
       "  'ood_both_answer': 13},\n",
       " 'correct_dict': {'ood_symbol_question': np.int64(38),\n",
       "  'ood_number_question': np.int64(19),\n",
       "  'ood_both_question': np.int64(9),\n",
       "  'ood_symbol_answer': np.int64(36),\n",
       "  'ood_number_answer': np.int64(19),\n",
       "  'ood_both_answer': np.int64(9)},\n",
       " 'accuracy_dict': {'ood_symbol_question': np.float64(0.8444444444444444),\n",
       "  'ood_number_question': np.float64(0.7307692307692307),\n",
       "  'ood_both_question': np.float64(0.6923076923076923),\n",
       "  'ood_symbol_answer': np.float64(0.8372093023255814),\n",
       "  'ood_number_answer': np.float64(0.7307692307692307),\n",
       "  'ood_both_answer': np.float64(0.6923076923076923)}}"
      ]
     },
     "execution_count": 8,
     "metadata": {},
     "output_type": "execute_result"
    }
   ],
   "execution_count": 8
  },
  {
   "cell_type": "code",
   "execution_count": null,
   "id": "4c1fee45",
   "metadata": {},
   "outputs": [],
   "source": []
  }
 ],
 "metadata": {
  "kernelspec": {
   "display_name": "Python 3 (ipykernel)",
   "language": "python",
   "name": "python3"
  },
  "language_info": {
   "codemirror_mode": {
    "name": "ipython",
    "version": 3
   },
   "file_extension": ".py",
   "mimetype": "text/x-python",
   "name": "python",
   "nbconvert_exporter": "python",
   "pygments_lexer": "ipython3",
   "version": "3.12.6"
  }
 },
 "nbformat": 4,
 "nbformat_minor": 5
}
