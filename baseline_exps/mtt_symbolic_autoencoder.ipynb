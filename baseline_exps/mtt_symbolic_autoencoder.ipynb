{
 "cells": [
  {
   "cell_type": "code",
   "execution_count": 1,
   "id": "83dd5b68",
   "metadata": {},
   "outputs": [],
   "source": [
    "import torch\n",
    "from torch.utils.data import Dataset, DataLoader\n",
    "from torchvision import transforms\n",
    "import torch.nn as nn\n",
    "import torch.optim as optim\n",
    "from tqdm import tqdm\n",
    "\n",
    "import numpy as np\n",
    "from PIL import Image\n",
    "\n",
    "import sys\n",
    "import os\n",
    "\n",
    "# Get path to the parent directory (i.e., project/)\n",
    "project_root = os.path.abspath(os.path.join(os.getcwd(), '..'))\n",
    "sys.path.append(project_root)\n",
    "\n",
    "from mtt import environment as env\n",
    "\n",
    "from baseline_src.dataloaders import PrecondDataset\n",
    "\n",
    "from baseline_src.models import DirectGumbelSymbolEncoder\n",
    "from baseline_src.models import DirectSymbolToImageDecoder\n",
    "from baseline_src.models import SymbolicAutoencoder\n",
    "\n",
    "from baseline_src.trainers import SymbolicTrainer\n",
    "from baseline_src.utils import visualize_gumbel_reconstructions\n",
    "\n",
    "device = 'cuda' if torch.cuda.is_available() else 'cpu'"
   ]
  },
  {
   "cell_type": "markdown",
   "id": "cb1b9427",
   "metadata": {},
   "source": [
    "### Set up and pre-train baseline symbolic encoder"
   ]
  },
  {
   "cell_type": "code",
   "execution_count": 2,
   "id": "c9d677f0",
   "metadata": {},
   "outputs": [],
   "source": [
    "generator = env.ExampleGenerator(mode='precond')\n",
    "\n",
    "# ----- Dataset Setup -----\n",
    "\n",
    "train_dataset = PrecondDataset(generator, num_samples=50000, mode='img_train')\n",
    "val_dataset   = PrecondDataset(generator, num_samples=50000, mode='img_val')\n",
    "\n",
    "train_loader = DataLoader(train_dataset, batch_size=32, shuffle=True)\n",
    "val_loader   = DataLoader(val_dataset,   batch_size=32, shuffle=False)\n",
    "\n",
    "# ----- Initialize Symbolic Models -----\n",
    "\n",
    "symbol_len = 8\n",
    "vocab_size = 8\n",
    "image_shape = (1, 47, 41)\n",
    "\n",
    "sender = DirectGumbelSymbolEncoder(\n",
    "    in_channels=1,\n",
    "    hidden_dim=64,\n",
    "    num_symbols=vocab_size,\n",
    "    symbol_length=symbol_len,\n",
    "    temperature=1.0\n",
    ").to(device)\n",
    "\n",
    "receiver = DirectSymbolToImageDecoder(\n",
    "    num_symbols=vocab_size,\n",
    "    symbol_length=symbol_len,\n",
    "    embed_dim=64,\n",
    "    output_shape=image_shape\n",
    ").to(device)\n",
    "\n",
    "config = {\n",
    "    'device': 'cuda',\n",
    "    'patience': 10,\n",
    "    'checkpoint_path': 'checkpoints/best_symbolic_gumbel.pth'\n",
    "}"
   ]
  },
  {
   "cell_type": "code",
   "execution_count": 3,
   "id": "b92e9273",
   "metadata": {
    "scrolled": true
   },
   "outputs": [
    {
     "name": "stderr",
     "output_type": "stream",
     "text": [
      "Epoch 1/200 [Train]: 100%|██████████████████████████████████████████████████████████████████████████████████████| 1563/1563 [00:11<00:00, 140.87it/s, loss=0.0201]\n",
      "Epoch 1/200 [ Val ]: 100%|██████████████████████████████████████████████████████████████████████████████████████████| 16/16 [00:00<00:00, 224.56it/s, loss=0.0144]\n"
     ]
    },
    {
     "name": "stdout",
     "output_type": "stream",
     "text": [
      "[Epoch 1] Train Loss: 0.019662 | Val Loss: 0.015063\n",
      "✅ Saved new best model at epoch 1\n"
     ]
    },
    {
     "name": "stderr",
     "output_type": "stream",
     "text": [
      "Epoch 2/200 [Train]: 100%|██████████████████████████████████████████████████████████████████████████████████████| 1563/1563 [00:10<00:00, 146.37it/s, loss=0.0165]\n",
      "Epoch 2/200 [ Val ]: 100%|███████████████████████████████████████████████████████████████████████████████████████████| 16/16 [00:00<00:00, 298.79it/s, loss=0.013]\n"
     ]
    },
    {
     "name": "stdout",
     "output_type": "stream",
     "text": [
      "[Epoch 2] Train Loss: 0.015201 | Val Loss: 0.014398\n",
      "✅ Saved new best model at epoch 2\n"
     ]
    },
    {
     "name": "stderr",
     "output_type": "stream",
     "text": [
      "Epoch 3/200 [Train]: 100%|██████████████████████████████████████████████████████████████████████████████████████| 1563/1563 [00:10<00:00, 146.01it/s, loss=0.0124]\n",
      "Epoch 3/200 [ Val ]: 100%|██████████████████████████████████████████████████████████████████████████████████████████| 16/16 [00:00<00:00, 231.48it/s, loss=0.0125]\n"
     ]
    },
    {
     "name": "stdout",
     "output_type": "stream",
     "text": [
      "[Epoch 3] Train Loss: 0.014407 | Val Loss: 0.013717\n",
      "✅ Saved new best model at epoch 3\n"
     ]
    },
    {
     "name": "stderr",
     "output_type": "stream",
     "text": [
      "Epoch 4/200 [Train]: 100%|██████████████████████████████████████████████████████████████████████████████████████| 1563/1563 [00:09<00:00, 156.69it/s, loss=0.0121]\n",
      "Epoch 4/200 [ Val ]: 100%|██████████████████████████████████████████████████████████████████████████████████████████| 16/16 [00:00<00:00, 231.92it/s, loss=0.0126]\n"
     ]
    },
    {
     "name": "stdout",
     "output_type": "stream",
     "text": [
      "[Epoch 4] Train Loss: 0.014027 | Val Loss: 0.013193\n",
      "✅ Saved new best model at epoch 4\n"
     ]
    },
    {
     "name": "stderr",
     "output_type": "stream",
     "text": [
      "Epoch 5/200 [Train]: 100%|██████████████████████████████████████████████████████████████████████████████████████| 1563/1563 [00:10<00:00, 152.21it/s, loss=0.0086]\n",
      "Epoch 5/200 [ Val ]: 100%|██████████████████████████████████████████████████████████████████████████████████████████| 16/16 [00:00<00:00, 297.27it/s, loss=0.0139]\n"
     ]
    },
    {
     "name": "stdout",
     "output_type": "stream",
     "text": [
      "[Epoch 5] Train Loss: 0.013399 | Val Loss: 0.013634\n",
      "⚠️ No improvement. Patience: 1/10\n"
     ]
    },
    {
     "name": "stderr",
     "output_type": "stream",
     "text": [
      "Epoch 6/200 [Train]: 100%|███████████████████████████████████████████████████████████████████████████████████████| 1563/1563 [00:09<00:00, 156.41it/s, loss=0.016]\n",
      "Epoch 6/200 [ Val ]: 100%|██████████████████████████████████████████████████████████████████████████████████████████| 16/16 [00:00<00:00, 241.94it/s, loss=0.0144]\n"
     ]
    },
    {
     "name": "stdout",
     "output_type": "stream",
     "text": [
      "[Epoch 6] Train Loss: 0.012785 | Val Loss: 0.014260\n",
      "⚠️ No improvement. Patience: 2/10\n"
     ]
    },
    {
     "name": "stderr",
     "output_type": "stream",
     "text": [
      "Epoch 7/200 [Train]: 100%|███████████████████████████████████████████████████████████████████████████████████████| 1563/1563 [00:10<00:00, 149.26it/s, loss=0.012]\n",
      "Epoch 7/200 [ Val ]: 100%|██████████████████████████████████████████████████████████████████████████████████████████| 16/16 [00:00<00:00, 278.44it/s, loss=0.0147]\n"
     ]
    },
    {
     "name": "stdout",
     "output_type": "stream",
     "text": [
      "[Epoch 7] Train Loss: 0.012172 | Val Loss: 0.014691\n",
      "⚠️ No improvement. Patience: 3/10\n"
     ]
    },
    {
     "name": "stderr",
     "output_type": "stream",
     "text": [
      "Epoch 8/200 [Train]: 100%|█████████████████████████████████████████████████████████████████████████████████████| 1563/1563 [00:10<00:00, 153.13it/s, loss=0.00964]\n",
      "Epoch 8/200 [ Val ]: 100%|██████████████████████████████████████████████████████████████████████████████████████████| 16/16 [00:00<00:00, 333.03it/s, loss=0.0159]\n"
     ]
    },
    {
     "name": "stdout",
     "output_type": "stream",
     "text": [
      "[Epoch 8] Train Loss: 0.011820 | Val Loss: 0.014595\n",
      "⚠️ No improvement. Patience: 4/10\n"
     ]
    },
    {
     "name": "stderr",
     "output_type": "stream",
     "text": [
      "Epoch 9/200 [Train]: 100%|██████████████████████████████████████████████████████████████████████████████████████| 1563/1563 [00:10<00:00, 150.13it/s, loss=0.0155]\n",
      "Epoch 9/200 [ Val ]: 100%|██████████████████████████████████████████████████████████████████████████████████████████| 16/16 [00:00<00:00, 212.00it/s, loss=0.0173]\n"
     ]
    },
    {
     "name": "stdout",
     "output_type": "stream",
     "text": [
      "[Epoch 9] Train Loss: 0.011583 | Val Loss: 0.014705\n",
      "⚠️ No improvement. Patience: 5/10\n"
     ]
    },
    {
     "name": "stderr",
     "output_type": "stream",
     "text": [
      "Epoch 10/200 [Train]: 100%|████████████████████████████████████████████████████████████████████████████████████| 1563/1563 [00:10<00:00, 150.34it/s, loss=0.00819]\n",
      "Epoch 10/200 [ Val ]: 100%|█████████████████████████████████████████████████████████████████████████████████████████| 16/16 [00:00<00:00, 261.31it/s, loss=0.0158]\n"
     ]
    },
    {
     "name": "stdout",
     "output_type": "stream",
     "text": [
      "[Epoch 10] Train Loss: 0.011190 | Val Loss: 0.013747\n",
      "⚠️ No improvement. Patience: 6/10\n"
     ]
    },
    {
     "name": "stderr",
     "output_type": "stream",
     "text": [
      "Epoch 11/200 [Train]: 100%|███████████████████████████████████████████████████████████████████████████████████████| 1563/1563 [00:10<00:00, 152.55it/s, loss=0.01]\n",
      "Epoch 11/200 [ Val ]: 100%|█████████████████████████████████████████████████████████████████████████████████████████| 16/16 [00:00<00:00, 267.48it/s, loss=0.0168]\n"
     ]
    },
    {
     "name": "stdout",
     "output_type": "stream",
     "text": [
      "[Epoch 11] Train Loss: 0.011013 | Val Loss: 0.014311\n",
      "⚠️ No improvement. Patience: 7/10\n"
     ]
    },
    {
     "name": "stderr",
     "output_type": "stream",
     "text": [
      "Epoch 12/200 [Train]: 100%|█████████████████████████████████████████████████████████████████████████████████████| 1563/1563 [00:11<00:00, 141.83it/s, loss=0.0092]\n",
      "Epoch 12/200 [ Val ]: 100%|█████████████████████████████████████████████████████████████████████████████████████████| 16/16 [00:00<00:00, 223.71it/s, loss=0.0134]\n"
     ]
    },
    {
     "name": "stdout",
     "output_type": "stream",
     "text": [
      "[Epoch 12] Train Loss: 0.010879 | Val Loss: 0.014281\n",
      "⚠️ No improvement. Patience: 8/10\n"
     ]
    },
    {
     "name": "stderr",
     "output_type": "stream",
     "text": [
      "Epoch 13/200 [Train]: 100%|█████████████████████████████████████████████████████████████████████████████████████| 1563/1563 [00:10<00:00, 150.22it/s, loss=0.0139]\n",
      "Epoch 13/200 [ Val ]: 100%|█████████████████████████████████████████████████████████████████████████████████████████| 16/16 [00:00<00:00, 246.05it/s, loss=0.0168]\n"
     ]
    },
    {
     "name": "stdout",
     "output_type": "stream",
     "text": [
      "[Epoch 13] Train Loss: 0.010752 | Val Loss: 0.014621\n",
      "⚠️ No improvement. Patience: 9/10\n"
     ]
    },
    {
     "name": "stderr",
     "output_type": "stream",
     "text": [
      "Epoch 14/200 [Train]: 100%|████████████████████████████████████████████████████████████████████████████████████| 1563/1563 [00:10<00:00, 150.38it/s, loss=0.00864]\n",
      "Epoch 14/200 [ Val ]: 100%|█████████████████████████████████████████████████████████████████████████████████████████| 16/16 [00:00<00:00, 280.19it/s, loss=0.0131]"
     ]
    },
    {
     "name": "stdout",
     "output_type": "stream",
     "text": [
      "[Epoch 14] Train Loss: 0.010563 | Val Loss: 0.014105\n",
      "⚠️ No improvement. Patience: 10/10\n",
      "🛑 Early stopping triggered at epoch 14 (best was epoch 4)\n"
     ]
    },
    {
     "name": "stderr",
     "output_type": "stream",
     "text": [
      "\n"
     ]
    }
   ],
   "source": [
    "# ----- Training Loop -----\n",
    "\n",
    "trainer = SymbolicTrainer(\n",
    "    sender=sender,\n",
    "    receiver=receiver,\n",
    "    optimizer=torch.optim.Adam(list(sender.parameters()) + list(receiver.parameters()), lr=1e-3),\n",
    "    loss_fn=nn.MSELoss(),\n",
    "    dataloader_train=train_loader,\n",
    "    dataloader_val=val_loader,\n",
    "    config=config\n",
    ")\n",
    "\n",
    "trainer.train(num_epochs=200)"
   ]
  },
  {
   "cell_type": "code",
   "execution_count": 3,
   "id": "94459249",
   "metadata": {},
   "outputs": [
    {
     "name": "stdout",
     "output_type": "stream",
     "text": [
      "✅ Loaded models from epoch 3\n"
     ]
    }
   ],
   "source": [
    "checkpoint = torch.load('checkpoints/best_symbolic_gumbel.pth', map_location=config['device'])\n",
    "\n",
    "sender.load_state_dict(checkpoint['sender_state'])\n",
    "receiver.load_state_dict(checkpoint['receiver_state'])\n",
    "# Optional: optimizer.load_state_dict(checkpoint['optimizer_state'])\n",
    "\n",
    "print(f\"✅ Loaded models from epoch {checkpoint['epoch']}\")"
   ]
  },
  {
   "cell_type": "code",
   "execution_count": 4,
   "id": "46a68429",
   "metadata": {
    "scrolled": true
   },
   "outputs": [
    {
     "name": "stdout",
     "output_type": "stream",
     "text": [
      "[Image 1] Symbolic language: z7 z4 z2 z2 z2 z2 z2 z2\n",
      "[Image 2] Symbolic language: z7 z7 z7 z4 z2 z2 z2 z2\n",
      "[Image 3] Symbolic language: z4 z2 z2 z2 z2 z2 z2 z2\n",
      "[Image 4] Symbolic language: z6 z6 z6 z7 z2 z2 z2 z2\n",
      "[Image 5] Symbolic language: z2 z2 z4 z2 z2 z2 z2 z2\n"
     ]
    },
    {
     "data": {
      "image/png": "[encoded data removed]",
      "text/plain": [
       "<Figure size 1000x1000 with 10 Axes>"
      ]
     },
     "metadata": {},
     "output_type": "display_data"
    }
   ],
   "source": [
    "# Visualize reconstructions\n",
    "\n",
    "visualize_gumbel_reconstructions(sender, receiver, val_loader, device=device, num_examples=5)"
   ]
  },
  {
   "cell_type": "markdown",
   "id": "c996fd19",
   "metadata": {},
   "source": [
    "### Set up and train  similarity / answer model"
   ]
  },
  {
   "cell_type": "code",
   "execution_count": 8,
   "id": "088fae93",
   "metadata": {},
   "outputs": [],
   "source": [
    "from baseline_src.models import SimilarityModel\n",
    "from baseline_src.trainers import QnATrainer\n",
    "\n",
    "symbolic_model_set = [sender,\n",
    "                      receiver]\n",
    "\n",
    "# --- Freeze or unfreeze parts of the model as needed add params to list ---\n",
    "\n",
    "#### RESULTS ARE DERIVED FOR FROZEN AND UNFROZEN SYMBOLIC MODELS ####\n",
    "\n",
    "symbolic_model_params = []\n",
    "\n",
    "for model in symbolic_model_set:\n",
    "    params = model.parameters()\n",
    "    for param in params:\n",
    "        param.requires_grad = True # False  # or False if you want to freeze\n",
    "    \n",
    "    symbolic_model_params += list(params)\n",
    "\n",
    "# ----- Initialize Answer / Similarity Model -----\n",
    "\n",
    "answer_model = SimilarityModel(latent_dim=128).to(device)\n",
    "\n",
    "#answer_optimizer = optim.Adam(answer_model.parameters(), lr=1e-3)\n",
    "answer_optimizer = optim.Adam(list(answer_model.parameters()) + symbolic_model_params, lr=1e-3)\n",
    "\n",
    "criterion = nn.CrossEntropyLoss()\n",
    "\n",
    "# ----- Setup Datasets and Dataloaders ------\n",
    "\n",
    "train_dataset = PrecondDataset(generator, num_samples=10000, mode='qna_train')\n",
    "val_dataset = PrecondDataset(generator, mode='qna_val')\n",
    "\n",
    "train_loader = DataLoader(train_dataset, batch_size=32, shuffle=True)\n",
    "val_loader   = DataLoader(val_dataset,   batch_size=32, shuffle=False)\n",
    "\n",
    "symbolic_model = SymbolicAutoencoder(sender, receiver)\n",
    "\n",
    "config = {\n",
    "    \"num_epochs\": 50,\n",
    "    \"patience\": 10,\n",
    "    \"save_path\": \"checkpoints/best_similarity_model_unfrozen_gumbel.pth\", # best_similarity_model_unfrozen_gumbel.pth\n",
    "    \"device\": \"cuda\" if torch.cuda.is_available() else \"cpu\"\n",
    "}"
   ]
  },
  {
   "cell_type": "code",
   "execution_count": 9,
   "id": "b400e8df",
   "metadata": {
    "scrolled": true
   },
   "outputs": [
    {
     "name": "stderr",
     "output_type": "stream",
     "text": [
      "Train Epoch 1: 100%|████████████████████████████████████████████████████████████████████████████████████████████████████████████| 313/313 [00:13<00:00, 22.74it/s]\n"
     ]
    },
    {
     "name": "stdout",
     "output_type": "stream",
     "text": [
      "\n",
      "Epoch 1: Train Loss=333.4854, Train Acc=0.6048 | Val Loss=16.6146, Val Acc=0.6120\n"
     ]
    },
    {
     "name": "stderr",
     "output_type": "stream",
     "text": [
      "Train Epoch 2: 100%|████████████████████████████████████████████████████████████████████████████████████████████████████████████| 313/313 [00:13<00:00, 22.63it/s]\n"
     ]
    },
    {
     "name": "stdout",
     "output_type": "stream",
     "text": [
      "\n",
      "Epoch 2: Train Loss=321.9392, Train Acc=0.6355 | Val Loss=16.2317, Val Acc=0.6380\n"
     ]
    },
    {
     "name": "stderr",
     "output_type": "stream",
     "text": [
      "Train Epoch 3: 100%|████████████████████████████████████████████████████████████████████████████████████████████████████████████| 313/313 [00:14<00:00, 21.94it/s]\n"
     ]
    },
    {
     "name": "stdout",
     "output_type": "stream",
     "text": [
      "\n",
      "Epoch 3: Train Loss=316.0043, Train Acc=0.6544 | Val Loss=16.2116, Val Acc=0.6180\n"
     ]
    },
    {
     "name": "stderr",
     "output_type": "stream",
     "text": [
      "Train Epoch 4: 100%|████████████████████████████████████████████████████████████████████████████████████████████████████████████| 313/313 [00:14<00:00, 22.03it/s]\n"
     ]
    },
    {
     "name": "stdout",
     "output_type": "stream",
     "text": [
      "\n",
      "Epoch 4: Train Loss=313.3303, Train Acc=0.6435 | Val Loss=15.7397, Val Acc=0.6340\n"
     ]
    },
    {
     "name": "stderr",
     "output_type": "stream",
     "text": [
      "Train Epoch 5: 100%|████████████████████████████████████████████████████████████████████████████████████████████████████████████| 313/313 [00:14<00:00, 22.10it/s]\n"
     ]
    },
    {
     "name": "stdout",
     "output_type": "stream",
     "text": [
      "\n",
      "Epoch 5: Train Loss=312.0166, Train Acc=0.6453 | Val Loss=15.9499, Val Acc=0.6700\n"
     ]
    },
    {
     "name": "stderr",
     "output_type": "stream",
     "text": [
      "Train Epoch 6: 100%|████████████████████████████████████████████████████████████████████████████████████████████████████████████| 313/313 [00:14<00:00, 21.88it/s]\n"
     ]
    },
    {
     "name": "stdout",
     "output_type": "stream",
     "text": [
      "\n",
      "Epoch 6: Train Loss=308.6198, Train Acc=0.6472 | Val Loss=15.8292, Val Acc=0.6440\n"
     ]
    },
    {
     "name": "stderr",
     "output_type": "stream",
     "text": [
      "Train Epoch 7: 100%|████████████████████████████████████████████████████████████████████████████████████████████████████████████| 313/313 [00:14<00:00, 22.09it/s]\n"
     ]
    },
    {
     "name": "stdout",
     "output_type": "stream",
     "text": [
      "\n",
      "Epoch 7: Train Loss=306.4719, Train Acc=0.6547 | Val Loss=15.2728, Val Acc=0.6960\n"
     ]
    },
    {
     "name": "stderr",
     "output_type": "stream",
     "text": [
      "Train Epoch 8: 100%|████████████████████████████████████████████████████████████████████████████████████████████████████████████| 313/313 [00:14<00:00, 22.11it/s]\n"
     ]
    },
    {
     "name": "stdout",
     "output_type": "stream",
     "text": [
      "\n",
      "Epoch 8: Train Loss=305.2333, Train Acc=0.6678 | Val Loss=15.6242, Val Acc=0.6560\n"
     ]
    },
    {
     "name": "stderr",
     "output_type": "stream",
     "text": [
      "Train Epoch 9: 100%|████████████████████████████████████████████████████████████████████████████████████████████████████████████| 313/313 [00:14<00:00, 22.24it/s]\n"
     ]
    },
    {
     "name": "stdout",
     "output_type": "stream",
     "text": [
      "\n",
      "Epoch 9: Train Loss=304.9488, Train Acc=0.6660 | Val Loss=15.5353, Val Acc=0.6500\n"
     ]
    },
    {
     "name": "stderr",
     "output_type": "stream",
     "text": [
      "Train Epoch 10: 100%|███████████████████████████████████████████████████████████████████████████████████████████████████████████| 313/313 [00:13<00:00, 22.37it/s]\n"
     ]
    },
    {
     "name": "stdout",
     "output_type": "stream",
     "text": [
      "\n",
      "Epoch 10: Train Loss=304.0404, Train Acc=0.6632 | Val Loss=15.3599, Val Acc=0.6480\n"
     ]
    },
    {
     "name": "stderr",
     "output_type": "stream",
     "text": [
      "Train Epoch 11: 100%|███████████████████████████████████████████████████████████████████████████████████████████████████████████| 313/313 [00:14<00:00, 22.12it/s]\n"
     ]
    },
    {
     "name": "stdout",
     "output_type": "stream",
     "text": [
      "\n",
      "Epoch 11: Train Loss=302.2362, Train Acc=0.6657 | Val Loss=15.2730, Val Acc=0.6820\n"
     ]
    },
    {
     "name": "stderr",
     "output_type": "stream",
     "text": [
      "Train Epoch 12: 100%|███████████████████████████████████████████████████████████████████████████████████████████████████████████| 313/313 [00:13<00:00, 22.70it/s]\n"
     ]
    },
    {
     "name": "stdout",
     "output_type": "stream",
     "text": [
      "\n",
      "Epoch 12: Train Loss=301.6554, Train Acc=0.6664 | Val Loss=15.3197, Val Acc=0.6840\n"
     ]
    },
    {
     "name": "stderr",
     "output_type": "stream",
     "text": [
      "Train Epoch 13: 100%|███████████████████████████████████████████████████████████████████████████████████████████████████████████| 313/313 [00:14<00:00, 22.21it/s]\n"
     ]
    },
    {
     "name": "stdout",
     "output_type": "stream",
     "text": [
      "\n",
      "Epoch 13: Train Loss=302.9672, Train Acc=0.6705 | Val Loss=15.0929, Val Acc=0.6920\n"
     ]
    },
    {
     "name": "stderr",
     "output_type": "stream",
     "text": [
      "Train Epoch 14: 100%|███████████████████████████████████████████████████████████████████████████████████████████████████████████| 313/313 [00:13<00:00, 22.36it/s]\n"
     ]
    },
    {
     "name": "stdout",
     "output_type": "stream",
     "text": [
      "\n",
      "Epoch 14: Train Loss=301.4699, Train Acc=0.6687 | Val Loss=15.2313, Val Acc=0.6980\n"
     ]
    },
    {
     "name": "stderr",
     "output_type": "stream",
     "text": [
      "Train Epoch 15: 100%|███████████████████████████████████████████████████████████████████████████████████████████████████████████| 313/313 [00:13<00:00, 22.57it/s]\n"
     ]
    },
    {
     "name": "stdout",
     "output_type": "stream",
     "text": [
      "\n",
      "Epoch 15: Train Loss=302.1050, Train Acc=0.6709 | Val Loss=15.2876, Val Acc=0.7220\n"
     ]
    },
    {
     "name": "stderr",
     "output_type": "stream",
     "text": [
      "Train Epoch 16: 100%|███████████████████████████████████████████████████████████████████████████████████████████████████████████| 313/313 [00:14<00:00, 22.33it/s]\n"
     ]
    },
    {
     "name": "stdout",
     "output_type": "stream",
     "text": [
      "\n",
      "Epoch 16: Train Loss=301.2502, Train Acc=0.6695 | Val Loss=15.2704, Val Acc=0.6840\n"
     ]
    },
    {
     "name": "stderr",
     "output_type": "stream",
     "text": [
      "Train Epoch 17: 100%|███████████████████████████████████████████████████████████████████████████████████████████████████████████| 313/313 [00:14<00:00, 22.24it/s]\n"
     ]
    },
    {
     "name": "stdout",
     "output_type": "stream",
     "text": [
      "\n",
      "Epoch 17: Train Loss=299.7895, Train Acc=0.6795 | Val Loss=15.3905, Val Acc=0.6440\n"
     ]
    },
    {
     "name": "stderr",
     "output_type": "stream",
     "text": [
      "Train Epoch 18: 100%|███████████████████████████████████████████████████████████████████████████████████████████████████████████| 313/313 [00:14<00:00, 22.29it/s]\n"
     ]
    },
    {
     "name": "stdout",
     "output_type": "stream",
     "text": [
      "\n",
      "Epoch 18: Train Loss=298.7478, Train Acc=0.6841 | Val Loss=15.3333, Val Acc=0.7120\n"
     ]
    },
    {
     "name": "stderr",
     "output_type": "stream",
     "text": [
      "Train Epoch 19: 100%|███████████████████████████████████████████████████████████████████████████████████████████████████████████| 313/313 [00:14<00:00, 22.23it/s]\n"
     ]
    },
    {
     "name": "stdout",
     "output_type": "stream",
     "text": [
      "\n",
      "Epoch 19: Train Loss=298.5244, Train Acc=0.6807 | Val Loss=15.6355, Val Acc=0.6260\n"
     ]
    },
    {
     "name": "stderr",
     "output_type": "stream",
     "text": [
      "Train Epoch 20: 100%|███████████████████████████████████████████████████████████████████████████████████████████████████████████| 313/313 [00:13<00:00, 22.64it/s]\n"
     ]
    },
    {
     "name": "stdout",
     "output_type": "stream",
     "text": [
      "\n",
      "Epoch 20: Train Loss=298.1938, Train Acc=0.6796 | Val Loss=14.8869, Val Acc=0.7280\n"
     ]
    },
    {
     "name": "stderr",
     "output_type": "stream",
     "text": [
      "Train Epoch 21: 100%|███████████████████████████████████████████████████████████████████████████████████████████████████████████| 313/313 [00:13<00:00, 22.41it/s]\n"
     ]
    },
    {
     "name": "stdout",
     "output_type": "stream",
     "text": [
      "\n",
      "Epoch 21: Train Loss=298.3912, Train Acc=0.6809 | Val Loss=15.1417, Val Acc=0.7040\n"
     ]
    },
    {
     "name": "stderr",
     "output_type": "stream",
     "text": [
      "Train Epoch 22: 100%|███████████████████████████████████████████████████████████████████████████████████████████████████████████| 313/313 [00:14<00:00, 22.15it/s]\n"
     ]
    },
    {
     "name": "stdout",
     "output_type": "stream",
     "text": [
      "\n",
      "Epoch 22: Train Loss=297.4709, Train Acc=0.6801 | Val Loss=14.9338, Val Acc=0.6980\n"
     ]
    },
    {
     "name": "stderr",
     "output_type": "stream",
     "text": [
      "Train Epoch 23: 100%|███████████████████████████████████████████████████████████████████████████████████████████████████████████| 313/313 [00:13<00:00, 22.48it/s]\n"
     ]
    },
    {
     "name": "stdout",
     "output_type": "stream",
     "text": [
      "\n",
      "Epoch 23: Train Loss=297.8557, Train Acc=0.6882 | Val Loss=15.2372, Val Acc=0.6720\n"
     ]
    },
    {
     "name": "stderr",
     "output_type": "stream",
     "text": [
      "Train Epoch 24: 100%|███████████████████████████████████████████████████████████████████████████████████████████████████████████| 313/313 [00:13<00:00, 22.78it/s]\n"
     ]
    },
    {
     "name": "stdout",
     "output_type": "stream",
     "text": [
      "\n",
      "Epoch 24: Train Loss=296.7891, Train Acc=0.6882 | Val Loss=15.2625, Val Acc=0.6700\n"
     ]
    },
    {
     "name": "stderr",
     "output_type": "stream",
     "text": [
      "Train Epoch 25: 100%|███████████████████████████████████████████████████████████████████████████████████████████████████████████| 313/313 [00:14<00:00, 22.28it/s]\n"
     ]
    },
    {
     "name": "stdout",
     "output_type": "stream",
     "text": [
      "\n",
      "Epoch 25: Train Loss=296.3396, Train Acc=0.6892 | Val Loss=15.0420, Val Acc=0.6680\n"
     ]
    },
    {
     "name": "stderr",
     "output_type": "stream",
     "text": [
      "Train Epoch 26: 100%|███████████████████████████████████████████████████████████████████████████████████████████████████████████| 313/313 [00:14<00:00, 22.31it/s]\n"
     ]
    },
    {
     "name": "stdout",
     "output_type": "stream",
     "text": [
      "\n",
      "Epoch 26: Train Loss=299.0894, Train Acc=0.6810 | Val Loss=15.2680, Val Acc=0.7000\n"
     ]
    },
    {
     "name": "stderr",
     "output_type": "stream",
     "text": [
      "Train Epoch 27: 100%|███████████████████████████████████████████████████████████████████████████████████████████████████████████| 313/313 [00:13<00:00, 22.38it/s]\n"
     ]
    },
    {
     "name": "stdout",
     "output_type": "stream",
     "text": [
      "\n",
      "Epoch 27: Train Loss=296.0879, Train Acc=0.6841 | Val Loss=15.1269, Val Acc=0.6840\n"
     ]
    },
    {
     "name": "stderr",
     "output_type": "stream",
     "text": [
      "Train Epoch 28: 100%|███████████████████████████████████████████████████████████████████████████████████████████████████████████| 313/313 [00:13<00:00, 22.49it/s]\n"
     ]
    },
    {
     "name": "stdout",
     "output_type": "stream",
     "text": [
      "\n",
      "Epoch 28: Train Loss=295.2673, Train Acc=0.6952 | Val Loss=15.1976, Val Acc=0.6460\n"
     ]
    },
    {
     "name": "stderr",
     "output_type": "stream",
     "text": [
      "Train Epoch 29: 100%|███████████████████████████████████████████████████████████████████████████████████████████████████████████| 313/313 [00:13<00:00, 22.50it/s]\n"
     ]
    },
    {
     "name": "stdout",
     "output_type": "stream",
     "text": [
      "\n",
      "Epoch 29: Train Loss=294.9725, Train Acc=0.6936 | Val Loss=14.8852, Val Acc=0.7020\n"
     ]
    },
    {
     "name": "stderr",
     "output_type": "stream",
     "text": [
      "Train Epoch 30: 100%|███████████████████████████████████████████████████████████████████████████████████████████████████████████| 313/313 [00:13<00:00, 22.37it/s]\n"
     ]
    },
    {
     "name": "stdout",
     "output_type": "stream",
     "text": [
      "\n",
      "Epoch 30: Train Loss=296.4875, Train Acc=0.6857 | Val Loss=15.5038, Val Acc=0.6780\n",
      "🛑 Early stopping triggered.\n",
      "✅ Best model weights restored.\n"
     ]
    }
   ],
   "source": [
    "# ---- Run Training Loop -----\n",
    "\n",
    "trainer = QnATrainer(\n",
    "    answer_model=answer_model,\n",
    "    symbolic_model=symbolic_model,\n",
    "    train_loader=train_loader,\n",
    "    val_loader=val_loader,\n",
    "    train_dataset=train_dataset,\n",
    "    val_dataset=val_dataset,\n",
    "    criterion=criterion,\n",
    "    optimizer=answer_optimizer,\n",
    "    config=config\n",
    ")\n",
    "\n",
    "trainer.train()\n"
   ]
  },
  {
   "cell_type": "code",
   "execution_count": 19,
   "id": "0f8d0a87",
   "metadata": {},
   "outputs": [],
   "source": [
    "import random\n",
    "\n",
    "# Set random seed for practice / Test evaluation\n",
    "\n",
    "def set_seed(seed=42):\n",
    "    random.seed(seed)\n",
    "    np.random.seed(seed)\n",
    "    torch.manual_seed(seed)\n",
    "    torch.cuda.manual_seed_all(seed)\n",
    "    torch.backends.cudnn.deterministic = True\n",
    "    torch.backends.cudnn.benchmark = False"
   ]
  },
  {
   "cell_type": "code",
   "execution_count": 26,
   "id": "98969292",
   "metadata": {},
   "outputs": [
    {
     "name": "stderr",
     "output_type": "stream",
     "text": [
      "Practice Run: 100%|███████████████████████████████████████████████████████████████████████████████████████████████████████████████| 50/50 [00:01<00:00, 49.32it/s]"
     ]
    },
    {
     "name": "stdout",
     "output_type": "stream",
     "text": [
      "Practice Loss=51.5365, Practice Acc=0.6000\n",
      "Number logged:  ['ood_symbol_question:47', 'ood_number_question:31', 'ood_both_question:16', 'ood_symbol_answer:57', 'ood_number_answer:41', 'ood_both_answer:20']\n",
      "Number correct:  ['ood_symbol_question:25', 'ood_number_question:21', 'ood_both_question:10', 'ood_symbol_answer:33', 'ood_number_answer:28', 'ood_both_answer:13']\n",
      "Accuracy:  ['ood_symbol_question:0.53', 'ood_number_question:0.67', 'ood_both_question:0.62', 'ood_symbol_answer:0.57', 'ood_number_answer:0.68', 'ood_both_answer:0.65']\n"
     ]
    },
    {
     "name": "stderr",
     "output_type": "stream",
     "text": [
      "\n"
     ]
    }
   ],
   "source": [
    "from baseline_src.dataloaders import PracTestDataset\n",
    "\n",
    "import numpy as np\n",
    "import torch\n",
    "import torch.nn as nn\n",
    "import torch.optim as optim\n",
    "\n",
    "answer_model = SimilarityModel(latent_dim=128).to(device)\n",
    "answer_optimizer = optim.Adam(answer_model.parameters(), lr=1e-3)\n",
    "criterion = nn.CrossEntropyLoss()\n",
    "\n",
    "answer_model.load_state_dict(torch.load(\"checkpoints/best_similarity_model_frozen_gumbel.pth\")) # best_similarity_model_unfrozen_gumbel.pth\n",
    "answer_model.train()\n",
    "\n",
    "# --- Practice loop for qna model using inputs from symbolic_model  ---\n",
    "\n",
    "# --- Practice Question Dataloader ---\n",
    "\n",
    "quiz_generator = quiz_generator = env.QuizGeneratorML()\n",
    "prac_dataset = PracTestDataset(quiz_generator=quiz_generator, mode='qna_prac')\n",
    "practice_loader = DataLoader(prac_dataset, batch_size=2)\n",
    "\n",
    "# Codes for in vs out of distribution testing\n",
    "\n",
    "prac_logger = env.EvalLogger('precond', 'practice') # input precond -> practice, or practice -> test\n",
    "prac_loss = 0\n",
    "\n",
    "for img, questions, answer, program, options in tqdm(practice_loader, desc=f\"Practice Run\"):\n",
    "    \n",
    "    img, questions, answer = img.to(device), questions.to(device), answer.to(device)\n",
    "    img_recon, symbols = symbolic_model(img, hard=True)\n",
    "    \n",
    "    logits = answer_model(img_recon, questions)\n",
    "    loss = criterion(logits, answer)\n",
    "\n",
    "    answer_optimizer.zero_grad()\n",
    "    loss.backward()\n",
    "    answer_optimizer.step()\n",
    "\n",
    "    prac_loss += loss.item()\n",
    "    prediction = logits.argmax(dim=1)\n",
    "    \n",
    "    # Pass batch inputs into qna tester\n",
    "    prac_logger.test_qna(answer, prediction, program, options)\n",
    "\n",
    "\n",
    "results_dict= prac_logger.return_results()\n",
    "torch.save(answer_model.state_dict(), \"checkpoints/test_similarity_model_unfrozen_gumbel.pth\") # test_similarity_model_unfrozen_gumbel.pth\n",
    "    \n",
    "print(f\"Practice Loss={prac_loss:.4f}, Practice Acc={results_dict['accuracy']:.4f}\")\n",
    "\n",
    "print('Number logged: ', [k + ':' + str(v)[:4] for k,v in results_dict['logging_dict'].items()])\n",
    "print('Number correct: ', [k + ':' + str(v)[:4] for k,v in results_dict['correct_dict'].items()])\n",
    "print('Accuracy: ', [k + ':' + str(v)[:4] for k,v in results_dict['accuracy_dict'].items()])\n"
   ]
  },
  {
   "cell_type": "code",
   "execution_count": 27,
   "id": "66a9961c",
   "metadata": {
    "scrolled": false
   },
   "outputs": [
    {
     "name": "stdout",
     "output_type": "stream",
     "text": [
      "Dictionary saved to results/symbolic_autoencoder_frozen_results_practice.pkl\n",
      "[Image 1] | Program: B12*12 | Questions: ['B12*12', 'B11*12', 'AC+AB', 'B12*2']\n",
      "[Image 1] Bottleneck symbols:     btensor([[1., 0., 0., 0., 0., 0., 0., 0.],\n",
      "        [0., 0., 0., 0., 0., 1., 0., 0.],\n",
      "        [0., 0., 0., 0., 0., 1., 0., 0.],\n",
      "        [0., 0., 0., 0., 0., 1., 0., 0.],\n",
      "        [0., 0., 1., 0., 0., 0., 0., 0.],\n",
      "        [0., 0., 1., 0., 0., 0., 0., 0.],\n",
      "        [0., 0., 1., 0., 0., 0., 0., 0.],\n",
      "        [0., 0., 1., 0., 0., 0., 0., 0.]], device='cuda:0')\n",
      "\n"
     ]
    },
    {
     "data": {
      "image/png": "[encoded data removed]",
      "text/plain": [
       "<Figure size 1500x300 with 6 Axes>"
      ]
     },
     "metadata": {},
     "output_type": "display_data"
    }
   ],
   "source": [
    "from baseline_src.utils import visualize_qna_prediction\n",
    "import pickle \n",
    "\n",
    "# Path to save the pickle file\n",
    "file_path = os.path.join('results', 'symbolic_autoencoder_frozen_results_practice.pkl')\n",
    "\n",
    "# Save the dictionary\n",
    "with open(file_path, 'wb') as f:\n",
    "    pickle.dump(results_dict, f)\n",
    "\n",
    "print(f\"Dictionary saved to {file_path}\")\n",
    "\n",
    "visualize_qna_prediction(answer_model, symbolic_model, prac_dataset, device=device)"
   ]
  },
  {
   "cell_type": "code",
   "execution_count": 28,
   "id": "67727baa",
   "metadata": {},
   "outputs": [
    {
     "name": "stderr",
     "output_type": "stream",
     "text": [
      "Testing...: 100%|███████████████████████████████████████████████████████████████████████████████████████████████████████████████| 100/100 [00:01<00:00, 79.92it/s]"
     ]
    },
    {
     "name": "stdout",
     "output_type": "stream",
     "text": [
      "Test Acc=0.6000\n",
      "Number logged:  ['ood_symbol_question:45', 'ood_number_question:26', 'ood_both_question:13', 'ood_symbol_answer:64', 'ood_number_answer:34', 'ood_both_answer:22']\n",
      "Number correct:  ['ood_symbol_question:23', 'ood_number_question:14', 'ood_both_question:4', 'ood_symbol_answer:35', 'ood_number_answer:19', 'ood_both_answer:8']\n",
      "Accuracy:  ['ood_symbol_question:0.51', 'ood_number_question:0.53', 'ood_both_question:0.30', 'ood_symbol_answer:0.54', 'ood_number_answer:0.55', 'ood_both_answer:0.36']\n"
     ]
    },
    {
     "name": "stderr",
     "output_type": "stream",
     "text": [
      "\n"
     ]
    }
   ],
   "source": [
    "# --- Test loop for qna model using inputs from symbolic_model ---\n",
    "# --- Test Question Dataloader ---\n",
    "\n",
    "quiz_generator = quiz_generator = env.QuizGeneratorML()\n",
    "test_dataset = PracTestDataset(quiz_generator=quiz_generator, mode='qna_test')\n",
    "\n",
    "test_loader = DataLoader(test_dataset, batch_size=1)\n",
    "\n",
    "answer_model.eval()\n",
    "test_correct = 0\n",
    "\n",
    "practice_codes = set(env.ShapeLibrary(mode='practice').shape_codes)\n",
    "practice_numbers = set(env.NumberLibrary(mode='practice').numbers)\n",
    "\n",
    "test_codes = set(env.ShapeLibrary(mode='test').shape_codes)\n",
    "new_test_codes = list(test_codes.difference(practice_codes))\n",
    "\n",
    "test_numbers = set(env.NumberLibrary(mode='test').numbers)\n",
    "new_test_numbers = list(test_numbers.difference(practice_numbers))\n",
    "\n",
    "test_logger = env.EvalLogger('practice', 'test') # input precond -> practice, or practice -> test\n",
    "\n",
    "with torch.no_grad():\n",
    "\n",
    "    for img, questions, answer, program, options in tqdm(test_loader, desc=f\"Testing...\"):\n",
    "\n",
    "        img, questions, answer = img.to(device), questions.to(device), answer.to(device)\n",
    "        img_recon, symbols = symbolic_model(img, hard=True)\n",
    "        \n",
    "        logits = answer_model(img_recon, questions)\n",
    "        prediction = logits.argmax(dim=1)\n",
    "        \n",
    "        test_logger.test_qna(answer, prediction, program, options)\n",
    "\n",
    "\n",
    "results_dict = test_logger.return_results()\n",
    "    \n",
    "print(f\"Test Acc={results_dict['accuracy']:.4f}\")\n",
    "\n",
    "print('Number logged: ', [k + ':' + str(v)[:4] for k,v in results_dict['logging_dict'].items()])\n",
    "print('Number correct: ', [k + ':' + str(v)[:4] for k,v in results_dict['correct_dict'].items()])\n",
    "print('Accuracy: ', [k + ':' + str(v)[:4] for k,v in results_dict['accuracy_dict'].items()])\n"
   ]
  },
  {
   "cell_type": "code",
   "execution_count": 29,
   "id": "ab990423",
   "metadata": {},
   "outputs": [
    {
     "name": "stdout",
     "output_type": "stream",
     "text": [
      "[Image 1] | Program: AC+BA12 | Questions: ['AC+BA12', 'AC+BA11', 'AC+BA2', 'CA']\n",
      "[Image 1] Bottleneck symbols:     btensor([[0., 0., 0., 0., 1., 0., 0., 0.],\n",
      "        [0., 0., 0., 0., 1., 0., 0., 0.],\n",
      "        [0., 0., 0., 0., 1., 0., 0., 0.],\n",
      "        [0., 0., 0., 0., 1., 0., 0., 0.],\n",
      "        [0., 0., 1., 0., 0., 0., 0., 0.],\n",
      "        [0., 0., 1., 0., 0., 0., 0., 0.],\n",
      "        [0., 0., 1., 0., 0., 0., 0., 0.],\n",
      "        [0., 0., 1., 0., 0., 0., 0., 0.]], device='cuda:0')\n",
      "\n"
     ]
    },
    {
     "data": {
      "image/png": "[encoded data removed]",
      "text/plain": [
       "<Figure size 1500x300 with 6 Axes>"
      ]
     },
     "metadata": {},
     "output_type": "display_data"
    },
    {
     "name": "stdout",
     "output_type": "stream",
     "text": [
      "[Image 1] | Program: B10*10+A | Questions: ['B10*10+A', 'AB10*10', 'A*2+AC10', 'B20*10+A']\n",
      "[Image 1] Bottleneck symbols:     btensor([[0., 0., 0., 0., 0., 0., 0., 1.],\n",
      "        [0., 0., 0., 0., 0., 0., 0., 1.],\n",
      "        [0., 0., 0., 0., 1., 0., 0., 0.],\n",
      "        [0., 0., 1., 0., 0., 0., 0., 0.],\n",
      "        [0., 0., 1., 0., 0., 0., 0., 0.],\n",
      "        [0., 0., 1., 0., 0., 0., 0., 0.],\n",
      "        [0., 0., 1., 0., 0., 0., 0., 0.],\n",
      "        [0., 0., 1., 0., 0., 0., 0., 0.]], device='cuda:0')\n",
      "\n"
     ]
    },
    {
     "data": {
      "image/png": "[encoded data removed]",
      "text/plain": [
       "<Figure size 1500x300 with 6 Axes>"
      ]
     },
     "metadata": {},
     "output_type": "display_data"
    },
    {
     "name": "stdout",
     "output_type": "stream",
     "text": [
      "[Image 1] | Program: B*12 | Questions: ['B*12', 'AC*2', 'C*2', 'A10*22']\n",
      "[Image 1] Bottleneck symbols:     btensor([[0., 0., 0., 0., 0., 0., 0., 1.],\n",
      "        [0., 0., 1., 0., 0., 0., 0., 0.],\n",
      "        [0., 0., 1., 0., 0., 0., 0., 0.],\n",
      "        [0., 0., 1., 0., 0., 0., 0., 0.],\n",
      "        [0., 0., 1., 0., 0., 0., 0., 0.],\n",
      "        [0., 0., 1., 0., 0., 0., 0., 0.],\n",
      "        [0., 0., 1., 0., 0., 0., 0., 0.],\n",
      "        [0., 0., 1., 0., 0., 0., 0., 0.]], device='cuda:0')\n",
      "\n"
     ]
    },
    {
     "data": {
      "image/png": "[encoded data removed]",
      "text/plain": [
       "<Figure size 1500x300 with 6 Axes>"
      ]
     },
     "metadata": {},
     "output_type": "display_data"
    }
   ],
   "source": [
    "\n",
    "for i in range(3):\n",
    "    visualize_qna_prediction(answer_model, symbolic_model, test_dataset, device=device)"
   ]
  },
  {
   "cell_type": "code",
   "execution_count": 30,
   "id": "887460ab",
   "metadata": {},
   "outputs": [
    {
     "name": "stdout",
     "output_type": "stream",
     "text": [
      "Dictionary saved to results/symbolic_autoencoder_frozen_results_test.pkl\n"
     ]
    }
   ],
   "source": [
    "import pickle \n",
    "\n",
    "# Path to save the pickle file\n",
    "file_path = os.path.join('results', 'symbolic_autoencoder_frozen_results_test.pkl')\n",
    "\n",
    "# Save the dictionary\n",
    "with open(file_path, 'wb') as f:\n",
    "    pickle.dump(results_dict, f)\n",
    "\n",
    "print(f\"Dictionary saved to {file_path}\")"
   ]
  },
  {
   "cell_type": "code",
   "execution_count": null,
   "id": "4e4259a7",
   "metadata": {},
   "outputs": [],
   "source": []
  }
 ],
 "metadata": {
  "kernelspec": {
   "display_name": "Python 3 (ipykernel)",
   "language": "python",
   "name": "python3"
  },
  "language_info": {
   "codemirror_mode": {
    "name": "ipython",
    "version": 3
   },
   "file_extension": ".py",
   "mimetype": "text/x-python",
   "name": "python",
   "nbconvert_exporter": "python",
   "pygments_lexer": "ipython3",
   "version": "3.12.6"
  }
 },
 "nbformat": 4,
 "nbformat_minor": 5
}
